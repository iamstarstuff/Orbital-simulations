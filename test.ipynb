{
 "cells": [
  {
   "cell_type": "code",
   "execution_count": 1,
   "metadata": {},
   "outputs": [],
   "source": [
    "import astrojigs"
   ]
  },
  {
   "cell_type": "code",
   "execution_count": 4,
   "metadata": {},
   "outputs": [
    {
     "name": "stdout",
     "output_type": "stream",
     "text": [
      "distance : 1 Light year\n",
      "time : 1 Million year\n",
      "Mass : Solar Masses\n",
      "G : 0.156079 ly^3/(solar_mass x million_year^2)\n"
     ]
    }
   ],
   "source": [
    "astrojigs.constants.info()"
   ]
  },
  {
   "cell_type": "code",
   "execution_count": 9,
   "metadata": {},
   "outputs": [],
   "source": [
    "from astropy import constants as c\n",
    "import astropy"
   ]
  },
  {
   "cell_type": "code",
   "execution_count": 5,
   "metadata": {},
   "outputs": [],
   "source": [
    "def info():\n",
    "    print(\"distance : 1 Light year\\ntime : 1 Million year\\nMass : Solar Masses\\nG : 0.156079 ly^3/(solar_mass x million_year^2)\")"
   ]
  },
  {
   "cell_type": "code",
   "execution_count": 6,
   "metadata": {},
   "outputs": [
    {
     "name": "stdout",
     "output_type": "stream",
     "text": [
      "distance : 1 Light year\n",
      "time : 1 Million year\n",
      "Mass : Solar Masses\n",
      "G : 0.156079 ly^3/(solar_mass x million_year^2)\n"
     ]
    }
   ],
   "source": [
    "info()"
   ]
  },
  {
   "cell_type": "code",
   "execution_count": 41,
   "metadata": {},
   "outputs": [
    {
     "name": "stdout",
     "output_type": "stream",
     "text": [
      "Distance : lyr\n",
      "Time : 1 Myr (Million year)\n"
     ]
    },
    {
     "data": {
      "text/plain": [
       "'G : 0.156079'"
      ]
     },
     "metadata": {},
     "output_type": "display_data"
    },
    {
     "data": {
      "text/latex": [
       "$\\mathrm{\\dfrac{lyr^3}{M_{\\odot}Myr^2}}$"
      ],
      "text/plain": [
       "Unit(\"new_G\")"
      ]
     },
     "metadata": {},
     "output_type": "display_data"
    }
   ],
   "source": [
    "print(f\"Distance : {astropy.units.lyr}\")\n",
    "print(f\"Time : 1 {astropy.units.Myr} (Million year)\")\n",
    "display(\"G : 0.156079\", new_G)"
   ]
  },
  {
   "cell_type": "code",
   "execution_count": 24,
   "metadata": {},
   "outputs": [
    {
     "data": {
      "text/latex": [
       "$\\mathrm{\\frac{lyr^{3}}{M_{\\odot}\\,Myr^{2}}}$"
      ],
      "text/plain": [
       "Unit(\"lyr3 / (Myr2 solMass)\")"
      ]
     },
     "execution_count": 24,
     "metadata": {},
     "output_type": "execute_result"
    }
   ],
   "source": [
    "astropy.units.lyr**3/(astropy.units.M_sun*(astropy.units.Myr)**2)"
   ]
  },
  {
   "cell_type": "code",
   "execution_count": 36,
   "metadata": {},
   "outputs": [
    {
     "data": {
      "text/latex": [
       "$\\mathrm{\\dfrac{lyr^3}{M_{\\odot}Myr^2}}$"
      ],
      "text/plain": [
       "Unit(\"new_G\")"
      ]
     },
     "execution_count": 36,
     "metadata": {},
     "output_type": "execute_result"
    }
   ],
   "source": [
    "new_G = astropy.units.def_unit('new_G',astropy.units.lyr**3/(astropy.units.M_sun*(astropy.units.Myr)**2), format={'latex':r'\\dfrac{lyr^3}{M_{\\odot}Myr^2}'})\n",
    "new_G"
   ]
  },
  {
   "cell_type": "code",
   "execution_count": 26,
   "metadata": {},
   "outputs": [],
   "source": [
    "def info():\n",
    "    print(f\"These are the units used for this code\\n\\\n",
    "        Distance : 1 {astropy.units.lyr} (Light year)\\n\\\n",
    "        Time : 1 {astropy.units.Myr} (Million year)\\n\\\n",
    "        Mass : {astropy.units.M_sun} (Solar Masses)\\n\\\n",
    "        G : 0.156079 {astropy.units.lyr**3/(astropy.units.M_sun*(astropy.units.Myr)**2)}\")"
   ]
  },
  {
   "cell_type": "code",
   "execution_count": 27,
   "metadata": {},
   "outputs": [
    {
     "name": "stdout",
     "output_type": "stream",
     "text": [
      "These are the units used for this code\n",
      "        Distance : 1 lyr (Light year)\n",
      "        Time : 1 Myr (Million year)\n",
      "        Mass : solMass (Solar Masses)\n",
      "        G : 0.156079 lyr3 / (Myr2 solMass)\n"
     ]
    }
   ],
   "source": [
    "info()"
   ]
  },
  {
   "cell_type": "code",
   "execution_count": 32,
   "metadata": {},
   "outputs": [
    {
     "name": "stdout",
     "output_type": "stream",
     "text": [
      "These are the units used for this code\n",
      "Distance : 1 lyr (Light year)\n",
      "Time : 1 Myr (Million year)\n",
      "Mass : solMass (Solar Masses)\n",
      "G : 0.156079 new_G\n"
     ]
    }
   ],
   "source": [
    "print(f\"These are the units used for this code\\nDistance : 1 {astropy.units.lyr} (Light year)\\nTime : 1 {astropy.units.Myr} (Million year)\\nMass : {astropy.units.M_sun} (Solar Masses)\\nG : 0.156079 {new_G}\")"
   ]
  },
  {
   "cell_type": "code",
   "execution_count": null,
   "metadata": {},
   "outputs": [],
   "source": []
  }
 ],
 "metadata": {
  "kernelspec": {
   "display_name": "codeastro",
   "language": "python",
   "name": "python3"
  },
  "language_info": {
   "codemirror_mode": {
    "name": "ipython",
    "version": 3
   },
   "file_extension": ".py",
   "mimetype": "text/x-python",
   "name": "python",
   "nbconvert_exporter": "python",
   "pygments_lexer": "ipython3",
   "version": "3.10.4"
  },
  "orig_nbformat": 4,
  "vscode": {
   "interpreter": {
    "hash": "7515a693c01f52b638d4b3064b0c43038e4c3279d18f32370a431825169c7029"
   }
  }
 },
 "nbformat": 4,
 "nbformat_minor": 2
}
